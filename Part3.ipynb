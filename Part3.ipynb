{
 "cells": [
  {
   "cell_type": "code",
   "execution_count": 1,
   "metadata": {},
   "outputs": [
    {
     "name": "stdout",
     "output_type": "stream",
     "text": [
      "[nltk_data] Downloading package stopwords to\n",
      "[nltk_data]     C:\\Users\\S_kho\\AppData\\Roaming\\nltk_data...\n",
      "[nltk_data]   Package stopwords is already up-to-date!\n"
     ]
    },
    {
     "data": {
      "text/plain": [
       "True"
      ]
     },
     "execution_count": 1,
     "metadata": {},
     "output_type": "execute_result"
    }
   ],
   "source": [
    "import nltk\n",
    "from nltk.tokenize import word_tokenize, wordpunct_tokenize, sent_tokenize\n",
    "from nltk.corpus import stopwords\n",
    "nltk.download('stopwords')"
   ]
  },
  {
   "cell_type": "markdown",
   "metadata": {},
   "source": [
    "a. First remove stop words, and punctuation, and apply Porter's stemming algorithm to the 3 documents (Note: You can write your program or use the online stemming application for this purpose).  Show the resulting documents."
   ]
  },
  {
   "cell_type": "code",
   "execution_count": 2,
   "metadata": {
    "scrolled": true
   },
   "outputs": [
    {
     "name": "stdout",
     "output_type": "stream",
     "text": [
      "['glimps', 'index', 'queri', 'system', 'allow', 'search', 'file', 'system', 'document', 'collect', 'quickli', 'glimps', 'default', 'search', 'engin', 'larger', 'inform', 'retriev', 'system', 'also', 'use', 'part', 'web', 'base', 'search', 'engin']\n",
      "\n",
      "\n",
      "['main', 'process', 'retriev', 'system', 'document', 'index', 'queri', 'process', 'queri', 'evalu', 'relev', 'feedback', 'among', 'effici', 'updat', 'index', 'critic', 'larg', 'scale', 'system']\n",
      "\n",
      "\n",
      "['cluster', 'creat', 'short', 'snippet', 'document', 'retriev', 'web', 'search', 'engin', 'good', 'cluster', 'creat', 'full', 'text', 'web', 'document']\n",
      "\n",
      "\n"
     ]
    }
   ],
   "source": [
    "docs = ['Glimpse is an indexing and query system that allows for search through a file system or document collection quickly. Glimpse is the default search engine in a larger information retrieval system. It has also been used as part of some web based search engines.'\n",
    "        ,'The main processes in an retrieval system are document indexing, query processing, query evaluation and relevance feedback. Among these, efficient updating of the index is critical in large scale systems.'\n",
    "        ,'Clusters are created from short snippets of documents retrieved by web search engines which are as good as clusters created from the full text of web documents.']\n",
    "\n",
    "for i in range(0,len(docs)):\n",
    "    docs[i] = docs[i].lower()\n",
    "#   print(docs[i].lower()+'\\n')\n",
    "docs\n",
    "\n",
    "# tokens = word_tokenize(text)\n",
    "# tokens = [w for w in tokens if w.isalpha()] # filter tokens that contain non-alphabetic character(s)\n",
    "# print (tokens)\n",
    "\n",
    "docs_token = docs\n",
    "# docs_token[0] = word_tokenize(docs[0])\n",
    "docs_token\n",
    "\n",
    "porter = nltk.PorterStemmer()\n",
    "for i in range(0,3):\n",
    "    docs_token[i] = word_tokenize(docs[i])\n",
    "    docs_token[i] = [w for w in docs_token[i] if w not in stopwords.words('english')] # filter English stopwords\n",
    "    docs_token[i] = [porter.stem(tok) for tok in docs_token[i]] # apply stemmer\n",
    "    docs_token[i] = [w for w in docs_token[i] if w.isalpha()] # filter tokens that contain non-alphabetic character(s)\n",
    "# docs_token\n",
    "# docs_token = [w for w in docs_token if w not in stopwords.words('english')] # filter English stopwords\n",
    "\n",
    "for doc_t in docs_token:\n",
    "    print(doc_t)\n",
    "    print('\\n')\n",
    "# print (docs_token)"
   ]
  },
  {
   "cell_type": "markdown",
   "metadata": {},
   "source": [
    "b. Create an inverted index of the three documents, including the dictionary and the postings. The dictionary should also contain (for each term) statistics such as total number of occurrences in the collection and the document frequency. The postings for each term should contain the document ids and the term frequencies (depict multiple postings for a term as a linked list, similar to Figure 1.3 in the IR Book)."
   ]
  },
  {
   "cell_type": "code",
   "execution_count": 17,
   "metadata": {},
   "outputs": [
    {
     "data": {
      "text/plain": [
       "Counter({'allow': 1,\n",
       "         'also': 1,\n",
       "         'among': 1,\n",
       "         'base': 1,\n",
       "         'cluster': 2,\n",
       "         'collect': 1,\n",
       "         'creat': 2,\n",
       "         'critic': 1,\n",
       "         'default': 1,\n",
       "         'document': 4,\n",
       "         'effici': 1,\n",
       "         'engin': 3,\n",
       "         'evalu': 1,\n",
       "         'feedback': 1,\n",
       "         'file': 1,\n",
       "         'full': 1,\n",
       "         'glimps': 2,\n",
       "         'good': 1,\n",
       "         'index': 3,\n",
       "         'inform': 1,\n",
       "         'larg': 1,\n",
       "         'larger': 1,\n",
       "         'main': 1,\n",
       "         'part': 1,\n",
       "         'process': 2,\n",
       "         'queri': 3,\n",
       "         'quickli': 1,\n",
       "         'relev': 1,\n",
       "         'retriev': 3,\n",
       "         'scale': 1,\n",
       "         'search': 4,\n",
       "         'short': 1,\n",
       "         'snippet': 1,\n",
       "         'system': 5,\n",
       "         'text': 1,\n",
       "         'updat': 1,\n",
       "         'use': 1,\n",
       "         'web': 3})"
      ]
     },
     "execution_count": 17,
     "metadata": {},
     "output_type": "execute_result"
    }
   ],
   "source": [
    "from collections import Counter\n",
    "# https://spapas.github.io/2016/04/27/python-nested-list-comprehensions/\n",
    "# non_flat = [ [1,2,3], [4,5,6], [7,8] ]\n",
    "# >>> [y for x in non_flat for y in x]\n",
    "# [1, 2, 3, 4, 5, 6, 7, 8]\n",
    "\n",
    "# for x in non_flat:\n",
    "#     for y in x:\n",
    "#         y\n",
    "word_count_dict = Counter(word for doc_t in docs_token for word in doc_t)\n",
    "word_count_dict"
   ]
  },
  {
   "cell_type": "code",
   "execution_count": 63,
   "metadata": {},
   "outputs": [
    {
     "data": {
      "text/plain": [
       "{'cluster': 2, 'glimps': 0, 'main': 1, 'process': 'doc1'}"
      ]
     },
     "execution_count": 63,
     "metadata": {},
     "output_type": "execute_result"
    }
   ],
   "source": [
    "inv_idx = {}\n",
    "inv_idx[\"process\"] = \"doc1\"\n",
    "inv_idx\n",
    "docs_token[0][0]\n",
    "inv_idx[docs_token[0][0]] = 1\n",
    "inv_idx\n",
    "\n",
    "# inv_idx = {}\n",
    "# for doc_t in docs_token:\n",
    "#     for token in doc_t:\n",
    "#         inv_idx[]\n",
    "        \n",
    "for i in range(0,len(docs_token)):\n",
    "    for token in docs_token[i]:\n",
    "        inv_idx[token] = i\n",
    "        break\n",
    "        \n",
    "inv_idx"
   ]
  },
  {
   "cell_type": "code",
   "execution_count": 64,
   "metadata": {},
   "outputs": [
    {
     "data": {
      "text/plain": [
       "[{'cluster': 2, 'glimps': 0, 'main': 1, 'process': 'doc1'}]"
      ]
     },
     "execution_count": 64,
     "metadata": {},
     "output_type": "execute_result"
    }
   ],
   "source": [
    "location = []\n",
    "location.append(inv_idx)\n",
    "location"
   ]
  },
  {
   "cell_type": "markdown",
   "metadata": {},
   "source": [
    "c. What are the search results for the following Boolean queries (in each case explain how you obtained them from the inverted index):\n",
    "index AND query\n",
    "index OR query\n",
    "index AND (NOT query)\n",
    "(search AND query) OR (search AND retrieve)\n",
    "(index OR cluster) AND (web OR system)\n"
   ]
  },
  {
   "cell_type": "code",
   "execution_count": null,
   "metadata": {},
   "outputs": [],
   "source": []
  }
 ],
 "metadata": {
  "kernelspec": {
   "display_name": "Python 3",
   "language": "python",
   "name": "python3"
  },
  "language_info": {
   "codemirror_mode": {
    "name": "ipython",
    "version": 3
   },
   "file_extension": ".py",
   "mimetype": "text/x-python",
   "name": "python",
   "nbconvert_exporter": "python",
   "pygments_lexer": "ipython3",
   "version": "3.6.4"
  }
 },
 "nbformat": 4,
 "nbformat_minor": 2
}
