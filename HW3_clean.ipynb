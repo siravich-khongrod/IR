{
 "cells": [
  {
   "cell_type": "markdown",
   "metadata": {},
   "source": [
    "# CSC 575 Intelligent Information Retrieval\n",
    "### Siravich Khongrod (In-class)\n",
    "## Homework #3: Written questions"
   ]
  },
  {
   "cell_type": "markdown",
   "metadata": {},
   "source": [
    "### 1. Retrieval from an Inverted Index:\n",
    "Consider the inverted index constructed from three documents (similar to the inverted index of HW#1). Follow this 'Inverted Index Retrieval Algorithm' and use the cosine similarity measure to determine which document is more relevant to the query: \"search engine index\".  Show the final ranking and the corresponding similarity scores."
   ]
  },
  {
   "cell_type": "code",
   "execution_count": 68,
   "metadata": {},
   "outputs": [
    {
     "name": "stdout",
     "output_type": "stream",
     "text": [
      "['glimps', 'index', 'queri', 'system', 'allow', 'search', 'file', 'system', 'document', 'collect', 'quickli', 'glimps', 'default', 'search', 'engin', 'larger', 'inform', 'retriev', 'system', 'also', 'use', 'part', 'web', 'base', 'search', 'engin']\n",
      "\n",
      "\n",
      "['main', 'process', 'retriev', 'system', 'document', 'index', 'queri', 'process', 'queri', 'evalu', 'relev', 'feedback', 'among', 'effici', 'updat', 'index', 'critic', 'larg', 'scale', 'system']\n",
      "\n",
      "\n",
      "['cluster', 'creat', 'short', 'snippet', 'document', 'retriev', 'web', 'search', 'engin', 'good', 'cluster', 'creat', 'full', 'text', 'web', 'document']\n",
      "\n",
      "\n"
     ]
    }
   ],
   "source": [
    "import nltk\n",
    "from nltk.tokenize import word_tokenize, wordpunct_tokenize, sent_tokenize\n",
    "from nltk.corpus import stopwords\n",
    "docs = ['Glimpse is an indexing and query system that allows for search through a file system or document collection quickly. Glimpse is the default search engine in a larger information retrieval system. It has also been used as part of some web based search engines.'\n",
    "        ,'The main processes in an retrieval system are document indexing, query processing, query evaluation and relevance feedback. Among these, efficient updating of the index is critical in large scale systems.'\n",
    "        ,'Clusters are created from short snippets of documents retrieved by web search engines which are as good as clusters created from the full text of web documents.']\n",
    "\n",
    "for i in range(0,len(docs)):\n",
    "    docs[i] = docs[i].lower()\n",
    "\n",
    "docs_token = docs\n",
    "\n",
    "porter = nltk.PorterStemmer()\n",
    "for i in range(0,3):\n",
    "    docs_token[i] = word_tokenize(docs[i])\n",
    "    docs_token[i] = [w for w in docs_token[i] if w not in stopwords.words('english')] # filter English stopwords\n",
    "    docs_token[i] = [porter.stem(tok) for tok in docs_token[i]] # apply stemmer\n",
    "    docs_token[i] = [w for w in docs_token[i] if w.isalpha()] # filter tokens that contain non-alphabetic character(s)\n",
    "\n",
    "for doc_t in docs_token:\n",
    "    print(doc_t)\n",
    "    print('\\n')\n",
    "\n",
    "\n",
    "word_count_dict = {}\n",
    "\n",
    "for i in range(0,len(docs_token)):\n",
    "#     print(docs_token[i])\n",
    "    for word in docs_token[i]:\n",
    "        word_count_dict.setdefault(word,[]).append(i)\n",
    "\n",
    "\n",
    "NDocs=3\n",
    "NTerms=len(word_count_dict.keys())"
   ]
  },
  {
   "cell_type": "code",
   "execution_count": 77,
   "metadata": {},
   "outputs": [
    {
     "name": "stdout",
     "output_type": "stream",
     "text": [
      "doc0\n",
      "search\n",
      "tf: 0.11538461538461539\n",
      "engin\n",
      "tf: 0.07692307692307693\n",
      "index\n",
      "tf: 0.038461538461538464\n",
      "[0.11538461538461539, 0.07692307692307693, 0.038461538461538464]\n",
      "doc1\n",
      "search\n",
      "tf: 0.0\n",
      "engin\n",
      "tf: 0.0\n",
      "index\n",
      "tf: 0.1\n",
      "[0.0, 0.0, 0.1]\n",
      "doc2\n",
      "search\n",
      "tf: 0.0625\n",
      "engin\n",
      "tf: 0.0625\n",
      "index\n",
      "tf: 0.0\n",
      "[0.0625, 0.0625, 0.0]\n",
      "\n",
      "search\n",
      "[True, False, True]\n",
      "IDF: 0.5849625007211562\n",
      "\n",
      "engin\n",
      "[True, False, True]\n",
      "IDF: 0.5849625007211562\n",
      "\n",
      "index\n",
      "[True, True, False]\n",
      "IDF: 0.5849625007211562\n",
      "\n",
      "TF\n",
      "{0: [0.11538461538461539, 0.07692307692307693, 0.038461538461538464], 1: [0.0, 0.0, 0.1], 2: [0.0625, 0.0625, 0.0]}\n",
      "IDF\n",
      "{'search': 0.5849625007211562, 'engin': 0.5849625007211562, 'index': 0.5849625007211562}\n",
      "\n",
      "[0.94 0.96 0.98]\n",
      "2.879185162965608\n",
      "[1.   1.   0.95]\n",
      "2.9477914849414693\n",
      "[0.97 0.97 1.  ]\n",
      "2.9340847353914166\n"
     ]
    }
   ],
   "source": [
    "# from collections import Counter\n",
    "import math\n",
    "\n",
    "query_raw='search engine index'\n",
    "query_token = word_tokenize(query_raw)\n",
    "query_token = [w for w in query_token if w not in stopwords.words('english')] # filter English stopwords\n",
    "query_token = [porter.stem(tok) for tok in query_token] # apply stemmer\n",
    "query_token = [w for w in query_token if w.isalpha()] # filter tokens that contain non-alphabetic character(s)\n",
    "query_token\n",
    "\n",
    "doc_TF={}\n",
    "# CALCULATE THE TF\n",
    "i=0\n",
    "for doc_t in docs_token:\n",
    "    TF=[]\n",
    "    print('doc'+str(i))\n",
    "    for token in query_token:\n",
    "        print(token)\n",
    "        tf=len([w for w in doc_t if token in w])/len(doc_t)\n",
    "        print('tf: '+str(tf))\n",
    "        TF.append(tf)\n",
    "    print(TF)\n",
    "    doc_TF[i]=TF\n",
    "    i+=1\n",
    "print()\n",
    "\n",
    "IDF={}\n",
    "# CALCULATE THE IDF\n",
    "for token in query_token:\n",
    "    print(token)\n",
    "    print([token in doc_t for doc_t in docs_token])\n",
    "    idf= 3/sum([token in doc_t for doc_t in docs_token])\n",
    "    idf=math.log(idf,2)\n",
    "    print('IDF: '+str(idf))\n",
    "    IDF[token]=idf\n",
    "#     for doc_t in docs_token:\n",
    "#         print(token in doc_t)\n",
    "    print()\n",
    "\n",
    "print('TF')\n",
    "print(doc_TF)\n",
    "print('IDF')\n",
    "print(IDF)\n",
    "print()\n",
    "\n",
    "for doc in doc_TF:\n",
    "    print(0.5849625007211562**np.array(doc_TF[doc]))\n",
    "    print(sum(0.5849625007211562**np.array(doc_TF[doc])))"
   ]
  },
  {
   "cell_type": "markdown",
   "metadata": {},
   "source": [
    "### 2. Indexing Models and Term Weighting:\n",
    "Consider the following document-term table containing raw term frequencies. Answer the following questions, and in each case give the formulas you used to perform the necessary computations.\n",
    "\n",
    "Note: you should not do these computations manually. You may use a spreadsheet program such as Microsoft Excel, or you can considering writing your own program do the computations.  In either case, include your spreadsheet or program in your assignment submissions."
   ]
  },
  {
   "cell_type": "markdown",
   "metadata": {},
   "source": [
    "|       | Term1 | Term2 | Term3 | Term4 | Term5 | Term6 | Term7 | Term8 |\n",
    "|-------|-------|-------|-------|-------|-------|-------|-------|-------|\n",
    "| DOC1  | 0     | 3     | 1     | 0     | 0     | 2     | 1     | 0     |\n",
    "| DOC2  | 5     | 0     | 0     | 0     | 3     | 0     | 0     | 2     |\n",
    "| DOC3  | 3     | 0     | 4     | 3     | 4     | 0     | 0     | 5     |\n",
    "| DOC4  | 1     | 8     | 0     | 3     | 0     | 1     | 4     | 0     |\n",
    "| DOC5  | 0     | 1     | 0     | 0     | 0     | 5     | 4     | 2     |\n",
    "| DOC6  | 2     | 0     | 2     | 0     | 0     | 4     | 0     | 1     |\n",
    "| DOC7  | 2     | 5     | 0     | 3     | 0     | 1     | 4     | 2     |\n",
    "| DOC8  | 3     | 3     | 0     | 2     | 0     | 0     | 1     | 3     |\n",
    "| DOC9  | 0     | 0     | 3     | 3     | 3     | 0     | 0     | 0     |\n",
    "| DOC10 | 1     | 0     | 5     | 0     | 2     | 4     | 0     | 2     |"
   ]
  },
  {
   "cell_type": "code",
   "execution_count": 41,
   "metadata": {},
   "outputs": [
    {
     "name": "stdout",
     "output_type": "stream",
     "text": [
      "(8, 10)\n"
     ]
    },
    {
     "data": {
      "text/plain": [
       "array([[7],\n",
       "       [5],\n",
       "       [5],\n",
       "       [5],\n",
       "       [4],\n",
       "       [6],\n",
       "       [5],\n",
       "       [7]])"
      ]
     },
     "execution_count": 41,
     "metadata": {},
     "output_type": "execute_result"
    }
   ],
   "source": [
    "import numpy\n",
    "DT=[[0,3,1,0,0,2,1,0],\n",
    "\t[5,0,0,0,3,0,0,2],\n",
    "\t[3,0,4,3,4,0,0,5],\n",
    "\t[1,8,0,3,0,1,4,0],\n",
    "\t[0,1,0,0,0,5,4,2],\n",
    "\t[2,0,2,0,0,4,0,1],\n",
    "\t[2,5,0,3,0,1,4,2],\n",
    "\t[3,3,0,2,0,0,1,3],\n",
    "\t[0,0,3,3,3,0,0,0],\n",
    "\t[1,0,5,0,2,4,0,2]]\n",
    "\n",
    "# numpy.matrix.transpose(DT)\n",
    "TD=numpy.asarray(DT).transpose()\n",
    "print(TD.shape)\n",
    "# calculate document frequency\n",
    "# DF = TD.sum(axis=1)\n",
    "DF = np.array([(TD!=0).sum(1)]).T\n",
    "DF"
   ]
  },
  {
   "cell_type": "code",
   "execution_count": 46,
   "metadata": {},
   "outputs": [
    {
     "data": {
      "text/plain": [
       "array([[0.        , 2.57286586, 1.54371952, 0.51457317, 0.        ,\n",
       "        1.02914635, 1.02914635, 1.54371952, 0.        , 0.51457317],\n",
       "       [3.        , 0.        , 0.        , 8.        , 1.        ,\n",
       "        0.        , 5.        , 3.        , 0.        , 0.        ],\n",
       "       [1.        , 0.        , 4.        , 0.        , 0.        ,\n",
       "        2.        , 0.        , 0.        , 3.        , 5.        ],\n",
       "       [0.        , 0.        , 3.        , 3.        , 0.        ,\n",
       "        0.        , 3.        , 2.        , 3.        , 0.        ],\n",
       "       [0.        , 3.96578428, 5.28771238, 0.        , 0.        ,\n",
       "        0.        , 0.        , 0.        , 3.96578428, 2.64385619],\n",
       "       [1.47393119, 0.        , 0.        , 0.73696559, 3.68482797,\n",
       "        2.94786238, 0.73696559, 0.        , 0.        , 2.94786238],\n",
       "       [1.        , 0.        , 0.        , 4.        , 4.        ,\n",
       "        0.        , 4.        , 1.        , 0.        , 0.        ],\n",
       "       [0.        , 1.02914635, 2.57286586, 0.        , 1.02914635,\n",
       "        0.51457317, 1.02914635, 1.54371952, 0.        , 1.02914635]])"
      ]
     },
     "execution_count": 46,
     "metadata": {},
     "output_type": "execute_result"
    }
   ],
   "source": [
    "import numpy as np\n",
    "NMatrix=numpy.ones(numpy.shape(TD), dtype=float)*10\n",
    "IDF = np.log2(np.divide(NMatrix, DF))\n",
    "# NMatrix.transpose()\n",
    "NMatrix.shape\n",
    "# IDF = np.divide(NMatrix.transpose(), DF)\n",
    "TD_tfidf = TD * IDF\n",
    "TD_tfidf"
   ]
  },
  {
   "cell_type": "markdown",
   "metadata": {},
   "source": [
    "#### a. Compute the new weights for all the terms in document DOC4 using the tf x idf approach. \n",
    " \n",
    "#### b. Compute the new weights for all the terms in documents DOC4 using the signal-to-noise ratio approach. \n",
    " \n",
    "#### c. Using the Keyword Discrimination approach, determine if Term4 is a good index term or not (by computing it's discriminant). To compute average similarities use Cosine similarity as your similarity measure. Show your work."
   ]
  },
  {
   "cell_type": "markdown",
   "metadata": {},
   "source": [
    "### 3. Vector-Space Retrieval Model:\n",
    "Consider the following document-term table with 10 documents and 8 terms (A through H) containing raw term frequencies. We also have a specified query, Q, with the indicated raw term weights (the bottom row in the table). Answer the following questions, and in each case give the formulas you used to perform the necessary computations. Note: You should do this problem using a spreadsheet program such as Microsoft Excel. Alternatively, you can write a program to perform the computations. Please include your worksheets or code in the assignment submission). [Download the table below as an Excel Spreadsheet]:"
   ]
  },
  {
   "cell_type": "markdown",
   "metadata": {},
   "source": [
    "|       | A | B | C | D | E | F | G | H |\n",
    "|-------|---|---|---|---|---|---|---|---|\n",
    "| DOC1  | 0 | 3 | 4 | 0 | 0 | 2 | 4 | 0 |\n",
    "| DOC2  | 5 | 5 | 0 | 0 | 4 | 0 | 4 | 3 |\n",
    "| DOC3  | 3 | 0 | 4 | 3 | 4 | 0 | 0 | 5 |\n",
    "| DOC4  | 0 | 7 | 0 | 3 | 2 | 0 | 4 | 3 |\n",
    "| DOC5  | 0 | 1 | 0 | 0 | 0 | 5 | 4 | 2 |\n",
    "| DOC6  | 2 | 0 | 2 | 0 | 0 | 4 | 0 | 1 |\n",
    "| DOC7  | 3 | 5 | 3 | 4 | 0 | 0 | 4 | 2 |\n",
    "| DOC8  | 0 | 3 | 0 | 0 | 0 | 4 | 4 | 2 |\n",
    "| DOC9  | 0 | 0 | 3 | 3 | 3 | 0 | 0 | 1 |\n",
    "| DOC10 | 0 | 5 | 0 | 0 | 0 | 4 | 4 | 2 |\n",
    "|       |   |   |   |   |   |   |   |   |\n",
    "| Query | 2 | 1 | 1 | 0 | 2 | 0 | 3 | 0 |"
   ]
  },
  {
   "cell_type": "code",
   "execution_count": 4,
   "metadata": {},
   "outputs": [],
   "source": [
    "termFreq=[  [0,3,4,0,0,2,4,0],\n",
    "            [5,5,0,0,4,0,4,3],\n",
    "            [3,0,4,3,4,0,0,5],\n",
    "            [0,7,0,3,2,0,4,3],\n",
    "            [0,1,0,0,0,5,4,2],\n",
    "            [2,0,2,0,0,4,0,1],\n",
    "            [3,5,3,4,0,0,4,2],\n",
    "            [0,3,0,0,0,4,4,2],\n",
    "            [0,0,3,3,3,0,0,1],\n",
    "            [0,5,0,0,0,4,4,2]]"
   ]
  },
  {
   "attachments": {
    "image.png": {
     "image/png": "[encoded data removed]"
    }
   },
   "cell_type": "markdown",
   "metadata": {},
   "source": [
    "### 4. Probabilistic Retrieval Model:\n",
    "\n",
    "We are interested in using the following document-term matrix and the associated relevance information as training data for a probabilistic retrieval model. A 1 entry indicates that the term occurs in a document, and 0 means it does not: R or NR indicate the relevance of the document with respect to queries in the training data.\n",
    "![image.png](attachment:image.png)\n",
    "Using the basic probabilistic retrieval model, compute the relevance and non-relevance probabilities associated with terms T1 through T6 (show these probabilities in a table). Then, using these probabilities and the given query Q = (1,1,0,1,0,1), compute the discriminant Disc(Q, D11) and Disc(Q, D12) for each of the two new documents:\n",
    "* D11 = (0,1,1,0,0,1)\n",
    "* D12 = (1,0,1,1,0,1)\n",
    "\n",
    "Based on the discriminants, should these documents be retrieved? Explain your answer."
   ]
  },
  {
   "cell_type": "markdown",
   "metadata": {},
   "source": [
    "### 5. Read the paper Understanding User Goals in Web Search by Rose and Levinson of Yahoo!. Then write a short summary (about one single-spaced page) which includes the following:\n",
    "\n",
    "How can the underlying user goals in Web search be categorized and what are the primary differences between these search types? \n",
    " \n",
    "What are some of the behavioral clues from which the search engine can deduce a user's search goals? \n",
    " \n",
    "What were some of the main findings of this study and how might they be used to improve future Web search engines?"
   ]
  },
  {
   "cell_type": "code",
   "execution_count": null,
   "metadata": {},
   "outputs": [],
   "source": []
  },
  {
   "cell_type": "code",
   "execution_count": null,
   "metadata": {},
   "outputs": [],
   "source": []
  },
  {
   "cell_type": "code",
   "execution_count": null,
   "metadata": {},
   "outputs": [],
   "source": []
  }
 ],
 "metadata": {
  "kernelspec": {
   "display_name": "Python 3",
   "language": "python",
   "name": "python3"
  },
  "language_info": {
   "codemirror_mode": {
    "name": "ipython",
    "version": 3
   },
   "file_extension": ".py",
   "mimetype": "text/x-python",
   "name": "python",
   "nbconvert_exporter": "python",
   "pygments_lexer": "ipython3",
   "version": "3.7.1"
  }
 },
 "nbformat": 4,
 "nbformat_minor": 2
}
