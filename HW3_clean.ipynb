{
 "cells": [
  {
   "cell_type": "markdown",
   "metadata": {},
   "source": [
    "# CSC 575 Intelligent Information Retrieval\n",
    "### Siravich Khongrod (In-class)\n",
    "## Homework #3: Written questions"
   ]
  },
  {
   "cell_type": "markdown",
   "metadata": {},
   "source": [
    "### 1. Retrieval from an Inverted Index:\n",
    "Consider the inverted index constructed from three documents (similar to the inverted index of HW#1). Follow this 'Inverted Index Retrieval Algorithm' and use the cosine similarity measure to determine which document is more relevant to the query: \"search engine index\".  Show the final ranking and the corresponding similarity scores."
   ]
  },
  {
   "cell_type": "code",
   "execution_count": 68,
   "metadata": {},
   "outputs": [
    {
     "name": "stdout",
     "output_type": "stream",
     "text": [
      "['glimps', 'index', 'queri', 'system', 'allow', 'search', 'file', 'system', 'document', 'collect', 'quickli', 'glimps', 'default', 'search', 'engin', 'larger', 'inform', 'retriev', 'system', 'also', 'use', 'part', 'web', 'base', 'search', 'engin']\n",
      "\n",
      "\n",
      "['main', 'process', 'retriev', 'system', 'document', 'index', 'queri', 'process', 'queri', 'evalu', 'relev', 'feedback', 'among', 'effici', 'updat', 'index', 'critic', 'larg', 'scale', 'system']\n",
      "\n",
      "\n",
      "['cluster', 'creat', 'short', 'snippet', 'document', 'retriev', 'web', 'search', 'engin', 'good', 'cluster', 'creat', 'full', 'text', 'web', 'document']\n",
      "\n",
      "\n"
     ]
    }
   ],
   "source": [
    "# SOME PREPROCESSING\n",
    "import nltk\n",
    "from nltk.tokenize import word_tokenize, wordpunct_tokenize, sent_tokenize\n",
    "from nltk.corpus import stopwords\n",
    "docs = ['Glimpse is an indexing and query system that allows for search through a file system or document collection quickly. Glimpse is the default search engine in a larger information retrieval system. It has also been used as part of some web based search engines.'\n",
    "        ,'The main processes in an retrieval system are document indexing, query processing, query evaluation and relevance feedback. Among these, efficient updating of the index is critical in large scale systems.'\n",
    "        ,'Clusters are created from short snippets of documents retrieved by web search engines which are as good as clusters created from the full text of web documents.']\n",
    "\n",
    "for i in range(0,len(docs)):\n",
    "    docs[i] = docs[i].lower()\n",
    "\n",
    "docs_token = docs\n",
    "\n",
    "porter = nltk.PorterStemmer()\n",
    "for i in range(0,3):\n",
    "    docs_token[i] = word_tokenize(docs[i])\n",
    "    docs_token[i] = [w for w in docs_token[i] if w not in stopwords.words('english')] # filter English stopwords\n",
    "    docs_token[i] = [porter.stem(tok) for tok in docs_token[i]] # apply stemmer\n",
    "    docs_token[i] = [w for w in docs_token[i] if w.isalpha()] # filter tokens that contain non-alphabetic character(s)\n",
    "\n",
    "for doc_t in docs_token:\n",
    "    print(doc_t)\n",
    "    print('\\n')\n",
    "\n",
    "\n",
    "word_count_dict = {}\n",
    "\n",
    "for i in range(0,len(docs_token)):\n",
    "#     print(docs_token[i])\n",
    "    for word in docs_token[i]:\n",
    "        word_count_dict.setdefault(word,[]).append(i)\n",
    "\n",
    "\n",
    "NDocs=3\n",
    "NTerms=len(word_count_dict.keys())"
   ]
  },
  {
   "cell_type": "code",
   "execution_count": 77,
   "metadata": {},
   "outputs": [
    {
     "name": "stdout",
     "output_type": "stream",
     "text": [
      "doc0\n",
      "search\n",
      "tf: 0.11538461538461539\n",
      "engin\n",
      "tf: 0.07692307692307693\n",
      "index\n",
      "tf: 0.038461538461538464\n",
      "[0.11538461538461539, 0.07692307692307693, 0.038461538461538464]\n",
      "doc1\n",
      "search\n",
      "tf: 0.0\n",
      "engin\n",
      "tf: 0.0\n",
      "index\n",
      "tf: 0.1\n",
      "[0.0, 0.0, 0.1]\n",
      "doc2\n",
      "search\n",
      "tf: 0.0625\n",
      "engin\n",
      "tf: 0.0625\n",
      "index\n",
      "tf: 0.0\n",
      "[0.0625, 0.0625, 0.0]\n",
      "\n",
      "search\n",
      "[True, False, True]\n",
      "IDF: 0.5849625007211562\n",
      "\n",
      "engin\n",
      "[True, False, True]\n",
      "IDF: 0.5849625007211562\n",
      "\n",
      "index\n",
      "[True, True, False]\n",
      "IDF: 0.5849625007211562\n",
      "\n",
      "TF\n",
      "{0: [0.11538461538461539, 0.07692307692307693, 0.038461538461538464], 1: [0.0, 0.0, 0.1], 2: [0.0625, 0.0625, 0.0]}\n",
      "IDF\n",
      "{'search': 0.5849625007211562, 'engin': 0.5849625007211562, 'index': 0.5849625007211562}\n",
      "\n",
      "[0.94 0.96 0.98]\n",
      "2.879185162965608\n",
      "[1.   1.   0.95]\n",
      "2.9477914849414693\n",
      "[0.97 0.97 1.  ]\n",
      "2.9340847353914166\n"
     ]
    }
   ],
   "source": [
    "import math\n",
    "query_raw='search engine index'\n",
    "query_token = word_tokenize(query_raw)\n",
    "query_token = [w for w in query_token if w not in stopwords.words('english')] # filter English stopwords\n",
    "query_token = [porter.stem(tok) for tok in query_token] # apply stemmer\n",
    "query_token = [w for w in query_token if w.isalpha()] # filter tokens that contain non-alphabetic character(s)\n",
    "query_token\n",
    "\n",
    "doc_TF={}\n",
    "# CALCULATE THE TF\n",
    "i=0\n",
    "for doc_t in docs_token:\n",
    "    TF=[]\n",
    "    print('doc'+str(i))\n",
    "    for token in query_token:\n",
    "        print(token)\n",
    "        tf=len([w for w in doc_t if token in w])/len(doc_t)\n",
    "        print('tf: '+str(tf))\n",
    "        TF.append(tf)\n",
    "    print(TF)\n",
    "    doc_TF[i]=TF\n",
    "    i+=1\n",
    "print()\n",
    "\n",
    "IDF={}\n",
    "# CALCULATE THE IDF\n",
    "for token in query_token:\n",
    "    print(token)\n",
    "    print([token in doc_t for doc_t in docs_token])\n",
    "    idf= 3/sum([token in doc_t for doc_t in docs_token])\n",
    "    idf=math.log(idf,2)\n",
    "    print('IDF: '+str(idf))\n",
    "    IDF[token]=idf\n",
    "#     for doc_t in docs_token:\n",
    "#         print(token in doc_t)\n",
    "    print()\n",
    "\n",
    "print('TF')\n",
    "print(doc_TF)\n",
    "print('IDF')\n",
    "print(IDF)\n",
    "print()\n",
    "\n",
    "for doc in doc_TF:\n",
    "    print(0.5849625007211562**np.array(doc_TF[doc]))\n",
    "    print(sum(0.5849625007211562**np.array(doc_TF[doc])))"
   ]
  },
  {
   "cell_type": "markdown",
   "metadata": {},
   "source": [
    "### 2. Indexing Models and Term Weighting:\n",
    "Consider the following document-term table containing raw term frequencies. Answer the following questions, and in each case give the formulas you used to perform the necessary computations."
   ]
  },
  {
   "cell_type": "markdown",
   "metadata": {},
   "source": [
    "|  DOCS  |  Term1  |  Term2  |  Term3  |  Term4  |  Term5  |  Term6  |  Term7  |  Term8  |\n",
    "|---------|---------|---------|---------|---------|---------|---------|---------|---------|\n",
    "|  DOC1   | 0 | 3 | 1 | 0 | 0 | 2 | 1 | 0 |\n",
    "|  DOC2   | 5 | 0 | 0 | 0 | 3 | 0 | 0 | 2 |\n",
    "|  DOC3   | 3 | 0 | 4 | 3 | 4 | 0 | 0 | 5 |\n",
    "|  DOC4   | 1 | 8 | 0 | 3 | 0 | 1 | 4 | 0 |\n",
    "|  DOC5   | 0 | 1 | 0 | 0 | 0 | 5 | 4 | 2 |\n",
    "|  DOC6   | 2 | 0 | 2 | 0 | 0 | 4 | 0 | 1 |\n",
    "|  DOC7   | 2 | 5 | 0 | 3 | 0 | 1 | 4 | 2 |\n",
    "|  DOC8   | 3 | 3 | 0 | 2 | 0 | 0 | 1 | 3 |\n",
    "|  DOC9   | 0 | 0 | 3 | 3 | 3 | 0 | 0 | 0 |\n",
    "|  DOC10  | 1 | 0 | 5 | 0 | 2 | 4 | 0 | 2 |"
   ]
  },
  {
   "cell_type": "code",
   "execution_count": 270,
   "metadata": {},
   "outputs": [
    {
     "name": "stdout",
     "output_type": "stream",
     "text": [
      "[[0.   0.79 0.26 0.   0.   0.48 0.26 0.  ]\n",
      " [0.74 0.   0.   0.   0.6  0.   0.   0.3 ]\n",
      " [0.3  0.   0.49 0.36 0.54 0.   0.   0.5 ]\n",
      " [0.09 0.84 0.   0.32 0.   0.1  0.42 0.  ]\n",
      " [0.   0.16 0.   0.   0.   0.71 0.63 0.26]\n",
      " [0.36 0.   0.44 0.   0.   0.8  0.   0.18]\n",
      " [0.22 0.67 0.   0.4  0.   0.12 0.53 0.22]\n",
      " [0.48 0.59 0.   0.39 0.   0.   0.2  0.48]\n",
      " [0.   0.   0.56 0.56 0.62 0.   0.   0.  ]\n",
      " [0.12 0.   0.73 0.   0.33 0.53 0.   0.24]]\n"
     ]
    }
   ],
   "source": [
    "# TESTING OUT SKITLEARN PACKAGE\n",
    "# The actual formula used for tf-idf is tf * (idf + 1) = tf + tf * idf,\n",
    "#     instead of tf * idf. The effect of this is that terms with zero idf, i.e.\n",
    "#     that occur in all documents of a training set, will not be entirely\n",
    "#     ignored.\n",
    "from sklearn.feature_extraction.text import TfidfTransformer\n",
    "tf_transformer = TfidfTransformer(use_idf=True).fit(DT)\n",
    "X_train_tf = tf_transformer.transform(DT) # returns sparse matrix, can be converted to dense matrix\n",
    "np.set_printoptions(precision=2,suppress=True,linewidth=120)\n",
    "print(X_train_tf.toarray())"
   ]
  },
  {
   "cell_type": "markdown",
   "metadata": {},
   "source": [
    "a. Compute the new weights for all the terms in document DOC4 using the tf x idf approach.  Use the raw term frequency for TF (for both documents and query) and the log of base 10 of N/df for IDF."
   ]
  },
  {
   "cell_type": "code",
   "execution_count": 4,
   "metadata": {},
   "outputs": [
    {
     "data": {
      "text/plain": [
       "array([[7, 5, 5, 5, 4, 6, 5, 7]])"
      ]
     },
     "execution_count": 4,
     "metadata": {},
     "output_type": "execute_result"
    }
   ],
   "source": [
    "import numpy as np\n",
    "DT=[[0,3,1,0,0,2,1,0],\n",
    "\t[5,0,0,0,3,0,0,2],\n",
    "\t[3,0,4,3,4,0,0,5],\n",
    "\t[1,8,0,3,0,1,4,0],\n",
    "\t[0,1,0,0,0,5,4,2],\n",
    "\t[2,0,2,0,0,4,0,1],\n",
    "\t[2,5,0,3,0,1,4,2],\n",
    "\t[3,3,0,2,0,0,1,3],\n",
    "\t[0,0,3,3,3,0,0,0],\n",
    "\t[1,0,5,0,2,4,0,2]]\n",
    "\n",
    "DT=np.array(DT)\n",
    "TD=DT.T\n",
    "# numpy.matrix.transpose(DT)\n",
    "# TD=numpy.asarray(DT).transpose()\n",
    "nTerms=DT.shape[1]\n",
    "nDocs=DT.shape[0]\n",
    "\n",
    "# nDocs containing term\n",
    "# calculate document frequency\n",
    "# DF = TD.sum(axis=1)\n",
    "DF = np.array([(TD!=0).sum(1)]).T\n",
    "DF.T"
   ]
  },
  {
   "cell_type": "code",
   "execution_count": 304,
   "metadata": {},
   "outputs": [
    {
     "data": {
      "text/plain": [
       "array([[0.  , 3.  , 1.  , 0.  , 0.  , 1.47, 1.  , 0.  ],\n",
       "       [2.57, 0.  , 0.  , 0.  , 3.97, 0.  , 0.  , 1.03],\n",
       "       [1.54, 0.  , 4.  , 3.  , 5.29, 0.  , 0.  , 2.57],\n",
       "       [0.51, 8.  , 0.  , 3.  , 0.  , 0.74, 4.  , 0.  ],\n",
       "       [0.  , 1.  , 0.  , 0.  , 0.  , 3.68, 4.  , 1.03],\n",
       "       [1.03, 0.  , 2.  , 0.  , 0.  , 2.95, 0.  , 0.51],\n",
       "       [1.03, 5.  , 0.  , 3.  , 0.  , 0.74, 4.  , 1.03],\n",
       "       [1.54, 3.  , 0.  , 2.  , 0.  , 0.  , 1.  , 1.54],\n",
       "       [0.  , 0.  , 3.  , 3.  , 3.97, 0.  , 0.  , 0.  ],\n",
       "       [0.51, 0.  , 5.  , 0.  , 2.64, 2.95, 0.  , 1.03]])"
      ]
     },
     "execution_count": 304,
     "metadata": {},
     "output_type": "execute_result"
    }
   ],
   "source": [
    "import numpy as np\n",
    "NMatrix=numpy.ones(numpy.shape(TD), dtype=float)*nDocs\n",
    "IDF = np.log2(np.divide(NMatrix, DF))\n",
    "# IDF = np.divide(NMatrix.transpose(), DF)\n",
    "TD_tfidf = TD * IDF\n",
    "# print(X_train_tf.toarray())\n",
    "DT_tfidf=np.array(TD_tfidf).T\n",
    "DT_tfidf"
   ]
  },
  {
   "cell_type": "markdown",
   "metadata": {},
   "source": [
    "#### a. Compute the new weights for all the terms in document DOC4 using the tf x idf approach. \n",
    "DOC4: [0.51, 8.  , 0.  , 3.  , 0.  , 0.74, 4.  , 0.  ],"
   ]
  },
  {
   "attachments": {
    "image.png": {
     "image/png": "[encoded data removed]"
    }
   },
   "cell_type": "markdown",
   "metadata": {},
   "source": [
    "#### b. Compute the new weights for all the terms in documents DOC4 using the signal-to-noise ratio approach. \n",
    "pk = Prob(term k occurs in document i) = tfik / tfk\n",
    "\n",
    "Infok = - pk log pk\n",
    "\n",
    "Noisek = - pk log (1/pk)\n",
    "![image.png](attachment:image.png)"
   ]
  },
  {
   "attachments": {
    "image.png": {
     "image/png": "[encoded data removed]"
    }
   },
   "cell_type": "markdown",
   "metadata": {},
   "source": [
    "![image.png](attachment:image.png)"
   ]
  },
  {
   "cell_type": "code",
   "execution_count": 15,
   "metadata": {},
   "outputs": [
    {
     "data": {
      "text/plain": [
       "array([[0.  , 0.15, 0.07, 0.  , 0.  , 0.12, 0.07, 0.  ],\n",
       "       [0.29, 0.  , 0.  , 0.  , 0.25, 0.  , 0.  , 0.12],\n",
       "       [0.18, 0.  , 0.27, 0.21, 0.33, 0.  , 0.  , 0.29],\n",
       "       [0.06, 0.4 , 0.  , 0.21, 0.  , 0.06, 0.29, 0.  ],\n",
       "       [0.  , 0.05, 0.  , 0.  , 0.  , 0.29, 0.29, 0.12],\n",
       "       [0.12, 0.  , 0.13, 0.  , 0.  , 0.24, 0.  , 0.06],\n",
       "       [0.12, 0.25, 0.  , 0.21, 0.  , 0.06, 0.29, 0.12],\n",
       "       [0.18, 0.15, 0.  , 0.14, 0.  , 0.  , 0.07, 0.18],\n",
       "       [0.  , 0.  , 0.2 , 0.21, 0.25, 0.  , 0.  , 0.  ],\n",
       "       [0.06, 0.  , 0.33, 0.  , 0.17, 0.24, 0.  , 0.12]])"
      ]
     },
     "execution_count": 15,
     "metadata": {},
     "output_type": "execute_result"
    }
   ],
   "source": [
    "import numpy as np\n",
    "DT=[[0,3,1,0,0,2,1,0],\n",
    "\t[5,0,0,0,3,0,0,2],\n",
    "\t[3,0,4,3,4,0,0,5],\n",
    "\t[1,8,0,3,0,1,4,0],\n",
    "\t[0,1,0,0,0,5,4,2],\n",
    "\t[2,0,2,0,0,4,0,1],\n",
    "\t[2,5,0,3,0,1,4,2],\n",
    "\t[3,3,0,2,0,0,1,3],\n",
    "\t[0,0,3,3,3,0,0,0],\n",
    "\t[1,0,5,0,2,4,0,2]]\n",
    "DT=np.array(DT)\n",
    "tf_k=DT.sum(axis=0)\n",
    "np.set_printoptions(precision=2,suppress=True,linewidth=120)\n",
    "p_k=DT/tf_k\n",
    "p_k"
   ]
  },
  {
   "cell_type": "code",
   "execution_count": 21,
   "metadata": {},
   "outputs": [
    {
     "name": "stderr",
     "output_type": "stream",
     "text": [
      "C:\\Users\\skhongro\\AppData\\Local\\Continuum\\anaconda3\\lib\\site-packages\\ipykernel_launcher.py:1: RuntimeWarning: divide by zero encountered in log2\n",
      "  \"\"\"Entry point for launching an IPython kernel.\n",
      "C:\\Users\\skhongro\\AppData\\Local\\Continuum\\anaconda3\\lib\\site-packages\\ipykernel_launcher.py:1: RuntimeWarning: invalid value encountered in multiply\n",
      "  \"\"\"Entry point for launching an IPython kernel.\n"
     ]
    },
    {
     "data": {
      "text/plain": [
       "array([[0.  , 0.41, 0.26, 0.  , 0.  , 0.36, 0.27, 0.  ],\n",
       "       [0.52, 0.  , 0.  , 0.  , 0.5 , 0.  , 0.  , 0.36],\n",
       "       [0.44, 0.  , 0.51, 0.48, 0.53, 0.  , 0.  , 0.52],\n",
       "       [0.24, 0.53, 0.  , 0.48, 0.  , 0.24, 0.52, 0.  ],\n",
       "       [0.  , 0.22, 0.  , 0.  , 0.  , 0.52, 0.52, 0.36],\n",
       "       [0.36, 0.  , 0.39, 0.  , 0.  , 0.49, 0.  , 0.24],\n",
       "       [0.36, 0.5 , 0.  , 0.48, 0.  , 0.24, 0.52, 0.36],\n",
       "       [0.44, 0.41, 0.  , 0.4 , 0.  , 0.  , 0.27, 0.44],\n",
       "       [0.  , 0.  , 0.46, 0.48, 0.5 , 0.  , 0.  , 0.  ],\n",
       "       [0.24, 0.  , 0.53, 0.  , 0.43, 0.49, 0.  , 0.36]])"
      ]
     },
     "execution_count": 21,
     "metadata": {},
     "output_type": "execute_result"
    }
   ],
   "source": [
    "info_k=-p_k*np.log2(p_k)\n",
    "info_k\n",
    "# CHECK IF nan CAN BE ZEROED\n",
    "info_k=np.nan_to_num(info_k)\n",
    "np.nan_to_num(info_k)"
   ]
  },
  {
   "cell_type": "code",
   "execution_count": 33,
   "metadata": {},
   "outputs": [
    {
     "data": {
      "text/plain": [
       "array([1.48, 2.26, 1.76, 1.5 , 1.63, 1.74, 1.71, 1.43])"
      ]
     },
     "execution_count": 33,
     "metadata": {},
     "output_type": "execute_result"
    }
   ],
   "source": [
    "avginfo=sum(info_k)\n",
    "avginfo\n",
    "noise=-avginfo\n",
    "signal=np.log2(tf_k)+noise\n",
    "signal"
   ]
  },
  {
   "attachments": {
    "image.png": {
     "image/png": "[encoded data removed]"
    }
   },
   "cell_type": "markdown",
   "metadata": {},
   "source": [
    "![image.png](attachment:image.png)"
   ]
  },
  {
   "cell_type": "code",
   "execution_count": 35,
   "metadata": {},
   "outputs": [
    {
     "data": {
      "text/plain": [
       "array([[ 0.  ,  6.77,  1.76,  0.  ,  0.  ,  3.48,  1.71,  0.  ],\n",
       "       [ 7.39,  0.  ,  0.  ,  0.  ,  4.88,  0.  ,  0.  ,  2.87],\n",
       "       [ 4.43,  0.  ,  7.03,  4.5 ,  6.5 ,  0.  ,  0.  ,  7.17],\n",
       "       [ 1.48, 18.05,  0.  ,  4.5 ,  0.  ,  1.74,  6.86,  0.  ],\n",
       "       [ 0.  ,  2.26,  0.  ,  0.  ,  0.  ,  8.71,  6.86,  2.87],\n",
       "       [ 2.96,  0.  ,  3.52,  0.  ,  0.  ,  6.97,  0.  ,  1.43],\n",
       "       [ 2.96, 11.28,  0.  ,  4.5 ,  0.  ,  1.74,  6.86,  2.87],\n",
       "       [ 4.43,  6.77,  0.  ,  3.  ,  0.  ,  0.  ,  1.71,  4.3 ],\n",
       "       [ 0.  ,  0.  ,  5.27,  4.5 ,  4.88,  0.  ,  0.  ,  0.  ],\n",
       "       [ 1.48,  0.  ,  8.79,  0.  ,  3.25,  6.97,  0.  ,  2.87]])"
      ]
     },
     "execution_count": 35,
     "metadata": {},
     "output_type": "execute_result"
    }
   ],
   "source": [
    "w=DT*signal\n",
    "w"
   ]
  },
  {
   "cell_type": "markdown",
   "metadata": {},
   "source": [
    "DOC4: [ 1.48, 18.05,  0.  ,  4.5 ,  0.  ,  1.74,  6.86,  0.  ]"
   ]
  },
  {
   "attachments": {
    "image.png": {
     "image/png": "[encoded data removed]"
    }
   },
   "cell_type": "markdown",
   "metadata": {},
   "source": [
    "_____\n",
    "#### c. Using the Keyword Discrimination approach, determine if Term4 is a good index term or not (by computing it's discriminant). To compute average similarities use Cosine similarity as your similarity measure. Show your work.\n",
    "![image.png](attachment:image.png)"
   ]
  },
  {
   "cell_type": "code",
   "execution_count": 148,
   "metadata": {
    "scrolled": true
   },
   "outputs": [
    {
     "data": {
      "text/plain": [
       "[0.294778560942374,\n",
       " 0.4416507661724517,\n",
       " 0.2666666666666667,\n",
       " 0.32028292484888343,\n",
       " 0.36155760193093855,\n",
       " 0.338267768390352,\n",
       " 0.1818622079815363,\n",
       " 0.19920527639780716,\n",
       " 0.47435897435897434,\n",
       " 0.31539902060675273]"
      ]
     },
     "execution_count": 148,
     "metadata": {},
     "output_type": "execute_result"
    }
   ],
   "source": [
    "from scipy.spatial import distance\n",
    "avgtf=np.sum(DT,axis=0) # D*\n",
    "doc_sim=[distance.cosine(avgtf,doc) for doc in DT]\n",
    "doc_sim #sim_bar\n",
    "# DT"
   ]
  },
  {
   "cell_type": "code",
   "execution_count": 159,
   "metadata": {},
   "outputs": [
    {
     "data": {
      "text/plain": [
       "array([0.33, 0.3 , 0.32, 0.32, 0.32, 0.32, 0.32, 0.33])"
      ]
     },
     "execution_count": 159,
     "metadata": {},
     "output_type": "execute_result"
    }
   ],
   "source": [
    "# https://scikit-learn.org/stable/modules/generated/sklearn.model_selection.KFold.html\n",
    "from sklearn.model_selection import KFold\n",
    "# X = np.array([1,2,3,4])\n",
    "# kf = KFold(n_splits=4)\n",
    "# for train_index in kf.split(X):\n",
    "#     print(train_index)\n",
    "TD=DT.T\n",
    "nTerms=DT.shape[1]\n",
    "kf = KFold(n_splits=nTerms)\n",
    "[fold for fold in kf.split(TD)] # TERM INDEX\n",
    "\n",
    "# TRY USING ONE DOC\n",
    "# for train,fold in kf.split(TD):\n",
    "#     print(DT[3][train],end=\"\")\n",
    "#     print('\\t\\t\\t| element '+str(fold[0])+'['+str(DT[3][fold][0])+']'+' folded')\n",
    "#     print('D*: ',end=\"\")\n",
    "#     print(avgtf[train])\n",
    "#     print('distance: ',end=\"\")\n",
    "#     print(distance.cosine(DT[3][train],avgtf[train]))\n",
    "#     print()\n",
    "\n",
    "# NOW TRY ON WHOLE DATASET\n",
    "#Note: D* for each of the SIMk is now computed with only two terms\n",
    "sim_raw=np.zeros(TD.shape)\n",
    "i=0\n",
    "for train,fold in kf.split(TD):\n",
    "    sim=[]\n",
    "    for doc in DT:\n",
    "#         print(doc[train])\n",
    "#         print(avgtf[train])\n",
    "        sim_ik=distance.cosine(doc[train],avgtf[train])\n",
    "        sim.append(sim_ik)\n",
    "#         print(sim_ik)\n",
    "#         print()\n",
    "#     print()\n",
    "#     print(sim)\n",
    "    sim_raw[i]=sim\n",
    "    i+=1\n",
    "    \n",
    "\n",
    "sim_k=np.average(sim_raw,axis=1)\n",
    "sim_k"
   ]
  },
  {
   "attachments": {
    "image.png": {
     "image/png": "[encoded data removed]"
    }
   },
   "cell_type": "markdown",
   "metadata": {},
   "source": [
    "![image.png](attachment:image.png)"
   ]
  },
  {
   "cell_type": "code",
   "execution_count": 160,
   "metadata": {},
   "outputs": [
    {
     "data": {
      "text/plain": [
       "array([ 0.01, -0.02,  0.  ,  0.  , -0.  , -0.  , -0.  ,  0.01])"
      ]
     },
     "execution_count": 160,
     "metadata": {},
     "output_type": "execute_result"
    }
   ],
   "source": [
    "avg_sim=np.average(doc_sim)\n",
    "sim_k-avg_sim"
   ]
  },
  {
   "cell_type": "markdown",
   "metadata": {},
   "source": [
    "disck > 0 ==> termk is a good discriminant  \n",
    "disck < 0 ==> termk is a poor discriminant  \n",
    "disck = 0 ==> termk is indifferent\n",
    "\n",
    "Discriminant value for Term 4 is 0 so it is indifferent"
   ]
  },
  {
   "cell_type": "markdown",
   "metadata": {},
   "source": [
    "### 3. Vector-Space Retrieval Model:\n",
    "Consider the following document-term table with 10 documents and 8 terms (A through H) containing raw term frequencies. We also have a specified query, Q, with the indicated raw term weights (the bottom row in the table). Answer the following questions, and in each case give the formulas you used to perform the necessary computations. Note: You should do this problem using a spreadsheet program such as Microsoft Excel. Alternatively, you can write a program to perform the computations. Please include your worksheets or code in the assignment submission).\n",
    "\n",
    "a. Compute the ranking score for each document based on each of the following query-document similarity measures (sort the documents in the decreasing order of the rank score):\n",
    "* dot product\n",
    "* Cosine similarity\n",
    "* Dice's coefficient\n",
    "* Jaccard's Coefficient \n"
   ]
  },
  {
   "cell_type": "markdown",
   "metadata": {},
   "source": [
    "| DOCS  | A | B | C | D | E | F | G | H |\n",
    "|-------|---|---|---|---|---|---|---|---|\n",
    "| DOC1  | 0 | 3 | 4 | 0 | 0 | 2 | 4 | 0 |\n",
    "| DOC2  | 5 | 5 | 0 | 0 | 4 | 0 | 4 | 3 |\n",
    "| DOC3  | 3 | 0 | 4 | 3 | 4 | 0 | 0 | 5 |\n",
    "| DOC4  | 0 | 7 | 0 | 3 | 2 | 0 | 4 | 3 |\n",
    "| DOC5  | 0 | 1 | 0 | 0 | 0 | 5 | 4 | 2 |\n",
    "| DOC6  | 2 | 0 | 2 | 0 | 0 | 4 | 0 | 1 |\n",
    "| DOC7  | 3 | 5 | 3 | 4 | 0 | 0 | 4 | 2 |\n",
    "| DOC8  | 0 | 3 | 0 | 0 | 0 | 4 | 4 | 2 |\n",
    "| DOC9  | 0 | 0 | 3 | 3 | 3 | 0 | 0 | 1 |\n",
    "| DOC10 | 0 | 5 | 0 | 0 | 0 | 4 | 4 | 2 |\n",
    "| Query | 2 | 1 | 1 | 0 | 2 | 0 | 3 | 0 |"
   ]
  },
  {
   "cell_type": "code",
   "execution_count": 162,
   "metadata": {},
   "outputs": [],
   "source": [
    "DT=[[0,3,4,0,0,2,4,0],[5,5,0,0,4,0,4,3],[3,0,4,3,4,0,0,5],[0,7,0,3,2,0,4,3],[0,1,0,0,0,5,4,2],[2,0,2,0,0,4,0,1],[3,5,3,4,0,0,4,2],[0,3,0,0,0,4,4,2],[0,0,3,3,3,0,0,1],[0,5,0,0,0,4,4,2]]\n",
    "query=[2,1,1,0,2,0,3,0]"
   ]
  },
  {
   "cell_type": "code",
   "execution_count": 163,
   "metadata": {},
   "outputs": [
    {
     "data": {
      "text/html": [
       "<div>\n",
       "<style scoped>\n",
       "    .dataframe tbody tr th:only-of-type {\n",
       "        vertical-align: middle;\n",
       "    }\n",
       "\n",
       "    .dataframe tbody tr th {\n",
       "        vertical-align: top;\n",
       "    }\n",
       "\n",
       "    .dataframe thead th {\n",
       "        text-align: right;\n",
       "    }\n",
       "</style>\n",
       "<table border=\"1\" class=\"dataframe\">\n",
       "  <thead>\n",
       "    <tr style=\"text-align: right;\">\n",
       "      <th></th>\n",
       "      <th>doc</th>\n",
       "      <th>dot</th>\n",
       "      <th>cosine</th>\n",
       "      <th>dice</th>\n",
       "      <th>jaccard</th>\n",
       "    </tr>\n",
       "  </thead>\n",
       "  <tbody>\n",
       "    <tr>\n",
       "      <th>0</th>\n",
       "      <td>1</td>\n",
       "      <td>19</td>\n",
       "      <td>0.350214</td>\n",
       "      <td>-0.727273</td>\n",
       "      <td>1.000000</td>\n",
       "    </tr>\n",
       "    <tr>\n",
       "      <th>1</th>\n",
       "      <td>2</td>\n",
       "      <td>35</td>\n",
       "      <td>0.158274</td>\n",
       "      <td>-1.333333</td>\n",
       "      <td>1.000000</td>\n",
       "    </tr>\n",
       "    <tr>\n",
       "      <th>2</th>\n",
       "      <td>3</td>\n",
       "      <td>18</td>\n",
       "      <td>0.523168</td>\n",
       "      <td>-0.285714</td>\n",
       "      <td>1.000000</td>\n",
       "    </tr>\n",
       "    <tr>\n",
       "      <th>3</th>\n",
       "      <td>4</td>\n",
       "      <td>23</td>\n",
       "      <td>0.434293</td>\n",
       "      <td>-0.642857</td>\n",
       "      <td>0.857143</td>\n",
       "    </tr>\n",
       "    <tr>\n",
       "      <th>4</th>\n",
       "      <td>5</td>\n",
       "      <td>13</td>\n",
       "      <td>0.560268</td>\n",
       "      <td>-0.238095</td>\n",
       "      <td>0.857143</td>\n",
       "    </tr>\n",
       "    <tr>\n",
       "      <th>5</th>\n",
       "      <td>6</td>\n",
       "      <td>6</td>\n",
       "      <td>0.724701</td>\n",
       "      <td>0.333333</td>\n",
       "      <td>0.857143</td>\n",
       "    </tr>\n",
       "    <tr>\n",
       "      <th>6</th>\n",
       "      <td>7</td>\n",
       "      <td>26</td>\n",
       "      <td>0.328907</td>\n",
       "      <td>-0.733333</td>\n",
       "      <td>1.000000</td>\n",
       "    </tr>\n",
       "    <tr>\n",
       "      <th>7</th>\n",
       "      <td>8</td>\n",
       "      <td>15</td>\n",
       "      <td>0.487011</td>\n",
       "      <td>-0.363636</td>\n",
       "      <td>1.000000</td>\n",
       "    </tr>\n",
       "    <tr>\n",
       "      <th>8</th>\n",
       "      <td>9</td>\n",
       "      <td>9</td>\n",
       "      <td>0.609801</td>\n",
       "      <td>0.052632</td>\n",
       "      <td>1.000000</td>\n",
       "    </tr>\n",
       "    <tr>\n",
       "      <th>9</th>\n",
       "      <td>10</td>\n",
       "      <td>17</td>\n",
       "      <td>0.500648</td>\n",
       "      <td>-0.416667</td>\n",
       "      <td>1.000000</td>\n",
       "    </tr>\n",
       "  </tbody>\n",
       "</table>\n",
       "</div>"
      ],
      "text/plain": [
       "   doc  dot    cosine      dice   jaccard\n",
       "0    1   19  0.350214 -0.727273  1.000000\n",
       "1    2   35  0.158274 -1.333333  1.000000\n",
       "2    3   18  0.523168 -0.285714  1.000000\n",
       "3    4   23  0.434293 -0.642857  0.857143\n",
       "4    5   13  0.560268 -0.238095  0.857143\n",
       "5    6    6  0.724701  0.333333  0.857143\n",
       "6    7   26  0.328907 -0.733333  1.000000\n",
       "7    8   15  0.487011 -0.363636  1.000000\n",
       "8    9    9  0.609801  0.052632  1.000000\n",
       "9   10   17  0.500648 -0.416667  1.000000"
      ]
     },
     "execution_count": 163,
     "metadata": {},
     "output_type": "execute_result"
    }
   ],
   "source": [
    "from scipy.spatial import distance\n",
    "\n",
    "dist=[['doc','dot','cosine','dice','jaccard']]\n",
    "i=0\n",
    "for doc in DT:\n",
    "#     print([i+1,np.dot(query,doc),distance.cosine(doc,query),distance.dice(doc,query),distance.jaccard(doc,query)])\n",
    "    dist.append(([i+1,np.dot(query,doc),distance.cosine(doc,query),distance.dice(doc,query),distance.jaccard(doc,query)]))\n",
    "    i+=1\n",
    "\n",
    "import pandas as pd\n",
    "distances=pd.DataFrame(data=dist[:][1:],columns=dist[:1][0])\n",
    "distances"
   ]
  },
  {
   "cell_type": "code",
   "execution_count": 178,
   "metadata": {},
   "outputs": [
    {
     "name": "stdout",
     "output_type": "stream",
     "text": [
      "dot\t[ 6  9  5  8 10  3  1  4  7  2]\n",
      "cosine\t[ 2  7  1  4  8 10  3  5  9  6]\n",
      "dice\t[ 2  7  1  4 10  8  3  5  9  6]\n",
      "jaccard\t[ 4  5  6  1  2  3  7  8  9 10]\n"
     ]
    }
   ],
   "source": [
    "# sort the documents in the decreasing order of the rank score):\n",
    "# print(np.array(distances.sort_values(by=['dot'])['doc']))\n",
    "for dtype in dist[0][1:]:\n",
    "    print(dtype,end=\"\\t\")\n",
    "    print(np.array(distances.sort_values(by=[dtype])['doc']))"
   ]
  },
  {
   "cell_type": "markdown",
   "metadata": {},
   "source": [
    "#### b. Compare the ranking obtained when, instead, binary term weights are used to the ranking obtained in part a where raw term weights were used (do this only with dot product as the similarity measure). Explain any discrepancy between the two rankings."
   ]
  },
  {
   "cell_type": "code",
   "execution_count": 164,
   "metadata": {},
   "outputs": [
    {
     "data": {
      "text/plain": [
       "array([[0, 1, 1, 0, 0, 1, 1, 0],\n",
       "       [1, 1, 0, 0, 1, 0, 1, 1],\n",
       "       [1, 0, 1, 1, 1, 0, 0, 1],\n",
       "       [0, 1, 0, 1, 1, 0, 1, 1],\n",
       "       [0, 1, 0, 0, 0, 1, 1, 1],\n",
       "       [1, 0, 1, 0, 0, 1, 0, 1],\n",
       "       [1, 1, 1, 1, 0, 0, 1, 1],\n",
       "       [0, 1, 0, 0, 0, 1, 1, 1],\n",
       "       [0, 0, 1, 1, 1, 0, 0, 1],\n",
       "       [0, 1, 0, 0, 0, 1, 1, 1]])"
      ]
     },
     "execution_count": 164,
     "metadata": {},
     "output_type": "execute_result"
    }
   ],
   "source": [
    "DT_binary=np.where(np.array(DT)>0,1,0)\n",
    "DT_binary"
   ]
  },
  {
   "cell_type": "code",
   "execution_count": 232,
   "metadata": {},
   "outputs": [
    {
     "data": {
      "text/html": [
       "<div>\n",
       "<style scoped>\n",
       "    .dataframe tbody tr th:only-of-type {\n",
       "        vertical-align: middle;\n",
       "    }\n",
       "\n",
       "    .dataframe tbody tr th {\n",
       "        vertical-align: top;\n",
       "    }\n",
       "\n",
       "    .dataframe thead th {\n",
       "        text-align: right;\n",
       "    }\n",
       "</style>\n",
       "<table border=\"1\" class=\"dataframe\">\n",
       "  <thead>\n",
       "    <tr style=\"text-align: right;\">\n",
       "      <th></th>\n",
       "      <th>doc</th>\n",
       "      <th>dot</th>\n",
       "      <th>cosine</th>\n",
       "      <th>dice</th>\n",
       "      <th>jaccard</th>\n",
       "    </tr>\n",
       "  </thead>\n",
       "  <tbody>\n",
       "    <tr>\n",
       "      <th>0</th>\n",
       "      <td>1</td>\n",
       "      <td>5</td>\n",
       "      <td>0.426461</td>\n",
       "      <td>0.230769</td>\n",
       "      <td>0.666667</td>\n",
       "    </tr>\n",
       "    <tr>\n",
       "      <th>1</th>\n",
       "      <td>2</td>\n",
       "      <td>8</td>\n",
       "      <td>0.179217</td>\n",
       "      <td>-0.142857</td>\n",
       "      <td>0.833333</td>\n",
       "    </tr>\n",
       "    <tr>\n",
       "      <th>2</th>\n",
       "      <td>3</td>\n",
       "      <td>5</td>\n",
       "      <td>0.487011</td>\n",
       "      <td>0.285714</td>\n",
       "      <td>0.857143</td>\n",
       "    </tr>\n",
       "    <tr>\n",
       "      <th>3</th>\n",
       "      <td>4</td>\n",
       "      <td>6</td>\n",
       "      <td>0.384413</td>\n",
       "      <td>0.142857</td>\n",
       "      <td>0.857143</td>\n",
       "    </tr>\n",
       "    <tr>\n",
       "      <th>4</th>\n",
       "      <td>5</td>\n",
       "      <td>4</td>\n",
       "      <td>0.541169</td>\n",
       "      <td>0.384615</td>\n",
       "      <td>0.857143</td>\n",
       "    </tr>\n",
       "    <tr>\n",
       "      <th>5</th>\n",
       "      <td>6</td>\n",
       "      <td>3</td>\n",
       "      <td>0.655876</td>\n",
       "      <td>0.538462</td>\n",
       "      <td>0.857143</td>\n",
       "    </tr>\n",
       "    <tr>\n",
       "      <th>6</th>\n",
       "      <td>7</td>\n",
       "      <td>7</td>\n",
       "      <td>0.344390</td>\n",
       "      <td>0.066667</td>\n",
       "      <td>0.714286</td>\n",
       "    </tr>\n",
       "    <tr>\n",
       "      <th>7</th>\n",
       "      <td>8</td>\n",
       "      <td>4</td>\n",
       "      <td>0.541169</td>\n",
       "      <td>0.384615</td>\n",
       "      <td>0.857143</td>\n",
       "    </tr>\n",
       "    <tr>\n",
       "      <th>8</th>\n",
       "      <td>9</td>\n",
       "      <td>3</td>\n",
       "      <td>0.655876</td>\n",
       "      <td>0.538462</td>\n",
       "      <td>0.857143</td>\n",
       "    </tr>\n",
       "    <tr>\n",
       "      <th>9</th>\n",
       "      <td>10</td>\n",
       "      <td>4</td>\n",
       "      <td>0.541169</td>\n",
       "      <td>0.384615</td>\n",
       "      <td>0.857143</td>\n",
       "    </tr>\n",
       "  </tbody>\n",
       "</table>\n",
       "</div>"
      ],
      "text/plain": [
       "   doc  dot    cosine      dice   jaccard\n",
       "0    1    5  0.426461  0.230769  0.666667\n",
       "1    2    8  0.179217 -0.142857  0.833333\n",
       "2    3    5  0.487011  0.285714  0.857143\n",
       "3    4    6  0.384413  0.142857  0.857143\n",
       "4    5    4  0.541169  0.384615  0.857143\n",
       "5    6    3  0.655876  0.538462  0.857143\n",
       "6    7    7  0.344390  0.066667  0.714286\n",
       "7    8    4  0.541169  0.384615  0.857143\n",
       "8    9    3  0.655876  0.538462  0.857143\n",
       "9   10    4  0.541169  0.384615  0.857143"
      ]
     },
     "execution_count": 232,
     "metadata": {},
     "output_type": "execute_result"
    }
   ],
   "source": [
    "dist=[['doc','dot','cosine','dice','jaccard']]\n",
    "i=0\n",
    "for doc in DT_binary:\n",
    "    dist.append(([i+1,np.dot(query,doc),distance.cosine(doc,query),distance.dice(doc,query),distance.jaccard(doc,query)]))\n",
    "    i+=1\n",
    "    \n",
    "dist=pd.DataFrame(data=dist[:][1:],columns=dist[:1][0])\n",
    "dist"
   ]
  },
  {
   "cell_type": "markdown",
   "metadata": {},
   "source": [
    "#### c. Construct a similar table to above, but instead of raw term frequencies compute the (non-normalized) tf x idf weights for the terms.  Use the raw term frequency for TF (for both documents and query) and the log of base 10 of N/df for IDF.  Then compute the ranking scores using the Cosine similarity. Explain any significant differences between the ranking you obtained here and the Cosine ranking from the previous part."
   ]
  },
  {
   "cell_type": "code",
   "execution_count": 230,
   "metadata": {},
   "outputs": [
    {
     "data": {
      "text/plain": [
       "array([[0.  , 1.99, 1.19, 0.  , 0.  , 0.8 , 1.19, 0.  , 0.  , 0.  ],\n",
       "       [0.46, 0.77, 0.  , 1.08, 0.15, 0.  , 0.77, 0.46, 0.  , 0.77],\n",
       "       [1.2 , 0.  , 1.2 , 0.  , 0.  , 0.6 , 0.9 , 0.  , 0.9 , 0.  ],\n",
       "       [0.  , 0.  , 1.19, 1.19, 0.  , 0.  , 1.59, 0.  , 1.19, 0.  ],\n",
       "       [0.  , 1.59, 1.59, 0.8 , 0.  , 0.  , 0.  , 0.  , 1.19, 0.  ],\n",
       "       [0.6 , 0.  , 0.  , 0.  , 1.51, 1.2 , 0.  , 1.2 , 0.  , 1.2 ],\n",
       "       [0.62, 0.62, 0.  , 0.62, 0.62, 0.  , 0.62, 0.62, 0.  , 0.62],\n",
       "       [0.  , 0.14, 0.23, 0.14, 0.09, 0.05, 0.09, 0.09, 0.05, 0.09]])"
      ]
     },
     "execution_count": 230,
     "metadata": {},
     "output_type": "execute_result"
    }
   ],
   "source": [
    "TD=np.array(DT).T\n",
    "NDocs=TD.shape[1]\n",
    "# DF=np.array(DT).sum(axis=0)\n",
    "DF = np.array([(TD!=0).sum(1)]).T\n",
    "NMatrix=np.ones(TD.shape)*NDocs\n",
    "TD_TFIDF = TD * np.log10(np.divide(NMatrix,DF))\n",
    "# pd.DataFrame(TFIDF)\n",
    "TD_TFIDF"
   ]
  },
  {
   "cell_type": "code",
   "execution_count": 308,
   "metadata": {},
   "outputs": [
    {
     "data": {
      "text/html": [
       "<div>\n",
       "<style scoped>\n",
       "    .dataframe tbody tr th:only-of-type {\n",
       "        vertical-align: middle;\n",
       "    }\n",
       "\n",
       "    .dataframe tbody tr th {\n",
       "        vertical-align: top;\n",
       "    }\n",
       "\n",
       "    .dataframe thead th {\n",
       "        text-align: right;\n",
       "    }\n",
       "</style>\n",
       "<table border=\"1\" class=\"dataframe\">\n",
       "  <thead>\n",
       "    <tr style=\"text-align: right;\">\n",
       "      <th></th>\n",
       "      <th>tfidf</th>\n",
       "      <th>cosine</th>\n",
       "    </tr>\n",
       "  </thead>\n",
       "  <tbody>\n",
       "    <tr>\n",
       "      <th>0</th>\n",
       "      <td>0.478928</td>\n",
       "      <td>0.585356</td>\n",
       "    </tr>\n",
       "    <tr>\n",
       "      <th>1</th>\n",
       "      <td>0.179099</td>\n",
       "      <td>0.404542</td>\n",
       "    </tr>\n",
       "    <tr>\n",
       "      <th>2</th>\n",
       "      <td>0.407681</td>\n",
       "      <td>0.523168</td>\n",
       "    </tr>\n",
       "    <tr>\n",
       "      <th>3</th>\n",
       "      <td>0.454479</td>\n",
       "      <td>0.470915</td>\n",
       "    </tr>\n",
       "    <tr>\n",
       "      <th>4</th>\n",
       "      <td>0.717893</td>\n",
       "      <td>0.560268</td>\n",
       "    </tr>\n",
       "    <tr>\n",
       "      <th>5</th>\n",
       "      <td>0.678318</td>\n",
       "      <td>0.724701</td>\n",
       "    </tr>\n",
       "    <tr>\n",
       "      <th>6</th>\n",
       "      <td>0.434045</td>\n",
       "      <td>0.372785</td>\n",
       "    </tr>\n",
       "    <tr>\n",
       "      <th>7</th>\n",
       "      <td>0.628436</td>\n",
       "      <td>0.513336</td>\n",
       "    </tr>\n",
       "    <tr>\n",
       "      <th>8</th>\n",
       "      <td>0.605819</td>\n",
       "      <td>0.602640</td>\n",
       "    </tr>\n",
       "    <tr>\n",
       "      <th>9</th>\n",
       "      <td>0.613410</td>\n",
       "      <td>0.643113</td>\n",
       "    </tr>\n",
       "  </tbody>\n",
       "</table>\n",
       "</div>"
      ],
      "text/plain": [
       "      tfidf    cosine\n",
       "0  0.478928  0.585356\n",
       "1  0.179099  0.404542\n",
       "2  0.407681  0.523168\n",
       "3  0.454479  0.470915\n",
       "4  0.717893  0.560268\n",
       "5  0.678318  0.724701\n",
       "6  0.434045  0.372785\n",
       "7  0.628436  0.513336\n",
       "8  0.605819  0.602640\n",
       "9  0.613410  0.643113"
      ]
     },
     "execution_count": 308,
     "metadata": {},
     "output_type": "execute_result"
    }
   ],
   "source": [
    "tffidf_cosine=[]\n",
    "for doc in TD_TFIDF.T:\n",
    "#     print(distance.cosine(doc,query))\n",
    "    tffidf_cosine.append(distance.cosine(doc,query))\n",
    "\n",
    "[distances['cosine'],tffidf_cosine]\n",
    "\n",
    "pd.concat([pd.DataFrame(tffidf_cosine,columns=['tfidf']), distances['cosine']], axis=1, sort=False)"
   ]
  },
  {
   "cell_type": "code",
   "execution_count": 264,
   "metadata": {},
   "outputs": [
    {
     "data": {
      "image/png": "[encoded data removed]",
      "text/plain": [
       "<Figure size 432x288 with 1 Axes>"
      ]
     },
     "metadata": {
      "needs_background": "light"
     },
     "output_type": "display_data"
    }
   ],
   "source": [
    "import matplotlib.pyplot as plt\n",
    "plt.plot(pd.concat([pd.DataFrame(tffidf_cosine,columns=['tfidf']), dist['cosine']], axis=1, sort=False))\n",
    "plt.legend(['tfidf','count'])\n",
    "plt.show()"
   ]
  },
  {
   "cell_type": "markdown",
   "metadata": {},
   "source": [
    "#### Explain any significant differences between the ranking you obtained here and the Cosine ranking from the previous part.\n",
    "# TODO: EXPLAIN"
   ]
  },
  {
   "attachments": {
    "image.png": {
     "image/png": "[encoded data removed]"
    }
   },
   "cell_type": "markdown",
   "metadata": {},
   "source": [
    "### 4. Probabilistic Retrieval Model:\n",
    "\n",
    "We are interested in using the following document-term matrix and the associated relevance information as training data for a probabilistic retrieval model. A 1 entry indicates that the term occurs in a document, and 0 means it does not: R or NR indicate the relevance of the document with respect to queries in the training data.\n",
    "![image.png](attachment:image.png)\n",
    "Using the basic probabilistic retrieval model, compute the relevance and non-relevance probabilities associated with terms T1 through T6 (show these probabilities in a table). Then, using these probabilities and the given query Q = (1,1,0,1,0,1), compute the discriminant Disc(Q, D11) and Disc(Q, D12) for each of the two new documents:\n",
    "* D11 = (0,1,1,0,0,1)\n",
    "* D12 = (1,0,1,1,0,1)\n",
    "\n",
    "Based on the discriminants, should these documents be retrieved? Explain your answer."
   ]
  },
  {
   "attachments": {
    "image.png": {
     "image/png": "[encoded data removed]"
    }
   },
   "cell_type": "markdown",
   "metadata": {},
   "source": [
    "Term 1 to term 5 is given in lecture slides:\n",
    "![image.png](attachment:image.png)\n",
    "\n",
    "Term6 has the following estimation: \n",
    "$$  P(T_6|R)=0.75 $$\n",
    "$$  P(T_6|NR)=0.33 $$"
   ]
  },
  {
   "attachments": {},
   "cell_type": "markdown",
   "metadata": {},
   "source": [
    "#### D11:\n",
    "$\\begin{aligned}\n",
    "    dis(Q,D_{11}) &=\n",
    "    \\frac{(1-P(t_1|R)) * P(t_2|R) * (1-P(t_4|R)) * P(T_6|R)}\n",
    "        {(1-P(t_1|NR)) * P(t_2|NR) * (1-P(t_4|NR)) * P(T_6|NR)} \\\\\n",
    "     &= \n",
    "    \\frac{(1-0.25)*0.5*(1-0.75)*0.75}\n",
    "        {(1-0.66)*0.66*(1-0.5)*0.33}\n",
    "    =\n",
    "    \\frac{0.0703125}{0.037026}\n",
    "    =1.899003403\n",
    "\\end{aligned}$"
   ]
  },
  {
   "attachments": {},
   "cell_type": "markdown",
   "metadata": {},
   "source": [
    "#### D12:\n",
    "$\\begin{aligned}\n",
    "    dis(Q,D_{12}) &=\n",
    "    \\frac{P(t_1|R) * (1-P(t_2|R) * P(t_4|R) * P(T_6|R)}\n",
    "        {P(t_1|NR) * (1-P(t_2|NR) * P(t_4|NR) * P(T_6|NR)} \\\\\n",
    "     &= \n",
    "    \\frac{0.25 * (1-0.5) * 0.75 * 0.75}\n",
    "        {0.66 * (1-0.66) * 0.5 * 0.33}\n",
    "    =\\frac{0.0703125}{0.037026}\n",
    "    =1.899003403\n",
    "\\end{aligned}$"
   ]
  },
  {
   "cell_type": "markdown",
   "metadata": {},
   "source": [
    "#### Based on the discriminants, should these documents be retrieved? Explain your answer."
   ]
  },
  {
   "cell_type": "markdown",
   "metadata": {},
   "source": [
    "Since dis(D) > 1 for both documents, it should be retrieved"
   ]
  }
 ],
 "metadata": {
  "kernelspec": {
   "display_name": "Python 3",
   "language": "python",
   "name": "python3"
  },
  "language_info": {
   "codemirror_mode": {
    "name": "ipython",
    "version": 3
   },
   "file_extension": ".py",
   "mimetype": "text/x-python",
   "name": "python",
   "nbconvert_exporter": "python",
   "pygments_lexer": "ipython3",
   "version": "3.7.1"
  }
 },
 "nbformat": 4,
 "nbformat_minor": 2
}
