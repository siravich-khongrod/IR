{
 "cells": [
  {
   "cell_type": "markdown",
   "metadata": {},
   "source": [
    "## 5. Hyperlink Analysis \n",
    "a.\tConsider the following Web pages and their linkage structure:\n",
    "\n",
    "     Page A has links to pages B and C\n",
    "     Page B has a link to Page C\n",
    "     Page C has a link to Page A \n",
    "\n",
    "Run the PageRank algorithm on this subgraph of pages (see slides 46-47 of lecture (#10) for the algorithm and an example). Assume that  = 0.15. Simulate the algorithm for three iterations and show PageRank scores twice for each iteration, both before and after normalization.\n"
   ]
  },
  {
   "cell_type": "code",
   "execution_count": 3,
   "metadata": {},
   "outputs": [
    {
     "data": {
      "text/html": [
       "<?xml version=\"1.0\" standalone=\"no\"?>\n",
       "<!DOCTYPE svg PUBLIC \"-//W3C//DTD SVG 1.1//EN\" \"http://www.w3.org/Graphics/SVG/1.1/DTD/svg11.dtd\">\n",
       "\n",
       "<svg width=\"400\" height=\"300\" version=\"1.1\" xmlns=\"http://www.w3.org/2000/svg\">\n",
       "\t<ellipse stroke=\"black\" stroke-width=\"1\" fill=\"none\" cx=\"134.5\" cy=\"93.5\" rx=\"30\" ry=\"30\"/>\n",
       "\t<text x=\"127.5\" y=\"99.5\" font-family=\"Times New Roman\" font-size=\"20\">A</text>\n",
       "\t<ellipse stroke=\"black\" stroke-width=\"1\" fill=\"none\" cx=\"316.5\" cy=\"93.5\" rx=\"30\" ry=\"30\"/>\n",
       "\t<text x=\"309.5\" y=\"99.5\" font-family=\"Times New Roman\" font-size=\"20\">B</text>\n",
       "\t<ellipse stroke=\"black\" stroke-width=\"1\" fill=\"none\" cx=\"228.5\" cy=\"253.5\" rx=\"30\" ry=\"30\"/>\n",
       "\t<text x=\"221.5\" y=\"259.5\" font-family=\"Times New Roman\" font-size=\"20\">C</text>\n",
       "\t<polygon stroke=\"black\" stroke-width=\"1\" points=\"149.696,119.366 213.304,227.634\"/>\n",
       "\t<polygon fill=\"black\" stroke-width=\"1\" points=\"213.304,227.634 213.562,218.203 204.94,223.269\"/>\n",
       "\t<polygon stroke=\"black\" stroke-width=\"1\" points=\"302.042,119.786 242.958,227.214\"/>\n",
       "\t<polygon fill=\"black\" stroke-width=\"1\" points=\"242.958,227.214 251.194,222.613 242.432,217.794\"/>\n",
       "\t<polygon stroke=\"black\" stroke-width=\"1\" points=\"164.5,93.5 286.5,93.5\"/>\n",
       "\t<polygon fill=\"black\" stroke-width=\"1\" points=\"286.5,93.5 278.5,88.5 278.5,98.5\"/>\n",
       "\t<polygon stroke=\"black\" stroke-width=\"1\" points=\"213.304,227.634 149.696,119.366\"/>\n",
       "\t<polygon fill=\"black\" stroke-width=\"1\" points=\"149.696,119.366 149.438,128.797 158.06,123.731\"/>\n",
       "</svg>\n"
      ],
      "text/plain": [
       "<IPython.core.display.HTML object>"
      ]
     },
     "metadata": {},
     "output_type": "display_data"
    }
   ],
   "source": [
    "from IPython.display import HTML\n",
    "hcode=\"\"\"<?xml version=\"1.0\" standalone=\"no\"?>\n",
    "<!DOCTYPE svg PUBLIC \"-//W3C//DTD SVG 1.1//EN\" \"http://www.w3.org/Graphics/SVG/1.1/DTD/svg11.dtd\">\n",
    "\n",
    "<svg width=\"400\" height=\"300\" version=\"1.1\" xmlns=\"http://www.w3.org/2000/svg\">\n",
    "\t<ellipse stroke=\"black\" stroke-width=\"1\" fill=\"none\" cx=\"134.5\" cy=\"93.5\" rx=\"30\" ry=\"30\"/>\n",
    "\t<text x=\"127.5\" y=\"99.5\" font-family=\"Times New Roman\" font-size=\"20\">A</text>\n",
    "\t<ellipse stroke=\"black\" stroke-width=\"1\" fill=\"none\" cx=\"316.5\" cy=\"93.5\" rx=\"30\" ry=\"30\"/>\n",
    "\t<text x=\"309.5\" y=\"99.5\" font-family=\"Times New Roman\" font-size=\"20\">B</text>\n",
    "\t<ellipse stroke=\"black\" stroke-width=\"1\" fill=\"none\" cx=\"228.5\" cy=\"253.5\" rx=\"30\" ry=\"30\"/>\n",
    "\t<text x=\"221.5\" y=\"259.5\" font-family=\"Times New Roman\" font-size=\"20\">C</text>\n",
    "\t<polygon stroke=\"black\" stroke-width=\"1\" points=\"149.696,119.366 213.304,227.634\"/>\n",
    "\t<polygon fill=\"black\" stroke-width=\"1\" points=\"213.304,227.634 213.562,218.203 204.94,223.269\"/>\n",
    "\t<polygon stroke=\"black\" stroke-width=\"1\" points=\"302.042,119.786 242.958,227.214\"/>\n",
    "\t<polygon fill=\"black\" stroke-width=\"1\" points=\"242.958,227.214 251.194,222.613 242.432,217.794\"/>\n",
    "\t<polygon stroke=\"black\" stroke-width=\"1\" points=\"164.5,93.5 286.5,93.5\"/>\n",
    "\t<polygon fill=\"black\" stroke-width=\"1\" points=\"286.5,93.5 278.5,88.5 278.5,98.5\"/>\n",
    "\t<polygon stroke=\"black\" stroke-width=\"1\" points=\"213.304,227.634 149.696,119.366\"/>\n",
    "\t<polygon fill=\"black\" stroke-width=\"1\" points=\"149.696,119.366 149.438,128.797 158.06,123.731\"/>\n",
    "</svg>\n",
    "\"\"\"\n",
    "h = HTML(hcode)\n",
    "display(h)"
   ]
  }
 ],
 "metadata": {
  "kernelspec": {
   "display_name": "Python 3",
   "language": "python",
   "name": "python3"
  },
  "language_info": {
   "codemirror_mode": {
    "name": "ipython",
    "version": 3
   },
   "file_extension": ".py",
   "mimetype": "text/x-python",
   "name": "python",
   "nbconvert_exporter": "python",
   "pygments_lexer": "ipython3",
   "version": "3.7.1"
  }
 },
 "nbformat": 4,
 "nbformat_minor": 2
}
